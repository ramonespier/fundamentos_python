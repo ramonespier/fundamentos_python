{
  "nbformat": 4,
  "nbformat_minor": 0,
  "metadata": {
    "colab": {
      "provenance": [],
      "include_colab_link": true
    },
    "kernelspec": {
      "name": "python3",
      "display_name": "Python 3"
    },
    "language_info": {
      "name": "python"
    }
  },
  "cells": [
    {
      "cell_type": "markdown",
      "metadata": {
        "id": "view-in-github",
        "colab_type": "text"
      },
      "source": [
        "<a href=\"https://colab.research.google.com/github/ramonespier/fundamentos_python/blob/main/listas.ipynb\" target=\"_parent\"><img src=\"https://colab.research.google.com/assets/colab-badge.svg\" alt=\"Open In Colab\"/></a>"
      ]
    },
    {
      "cell_type": "markdown",
      "source": [
        "# Listas"
      ],
      "metadata": {
        "id": "wqRUSX1Mfp2L"
      }
    },
    {
      "cell_type": "code",
      "execution_count": 98,
      "metadata": {
        "colab": {
          "base_uri": "https://localhost:8080/"
        },
        "id": "oNCGAY77fn6_",
        "outputId": "57849b4e-7fe4-4bd2-b0cc-b2d8da0cf17d"
      },
      "outputs": [
        {
          "output_type": "stream",
          "name": "stdout",
          "text": [
            "['cenoura', 'batata', 'abobrinha']\n",
            "<class 'list'>\n"
          ]
        }
      ],
      "source": [
        "legumes = [\"cenoura\", \"batata\", \"abobrinha\"]\n",
        "print(legumes)\n",
        "print(type(legumes))"
      ]
    },
    {
      "cell_type": "markdown",
      "source": [
        "## Acessando os items da lista"
      ],
      "metadata": {
        "id": "O4rbj1zdgT8s"
      }
    },
    {
      "cell_type": "code",
      "source": [
        "print(legumes[0])\n",
        "print(legumes[1])\n",
        "print(legumes[2])"
      ],
      "metadata": {
        "colab": {
          "base_uri": "https://localhost:8080/"
        },
        "id": "Fq8FVJbWgTad",
        "outputId": "40b25224-59f8-4d74-abbc-fb6c881303d0"
      },
      "execution_count": 99,
      "outputs": [
        {
          "output_type": "stream",
          "name": "stdout",
          "text": [
            "cenoura\n",
            "batata\n",
            "abobrinha\n"
          ]
        }
      ]
    },
    {
      "cell_type": "code",
      "source": [
        "for legume in legumes:\n",
        "    print(legume)"
      ],
      "metadata": {
        "colab": {
          "base_uri": "https://localhost:8080/"
        },
        "id": "qMWK_AYxggO0",
        "outputId": "78c80a81-dd4e-4c4a-d791-1ce0f45c0697"
      },
      "execution_count": 100,
      "outputs": [
        {
          "output_type": "stream",
          "name": "stdout",
          "text": [
            "cenoura\n",
            "batata\n",
            "abobrinha\n"
          ]
        }
      ]
    },
    {
      "cell_type": "code",
      "source": [
        "# Lista mista\n",
        "listaMista = [\"banana\", 2, 3.14, True]\n",
        "print(listaMista)"
      ],
      "metadata": {
        "colab": {
          "base_uri": "https://localhost:8080/"
        },
        "id": "vXpb-fPKhCJL",
        "outputId": "8ffa36fe-e317-4f16-c7a4-d214e12495e6"
      },
      "execution_count": 101,
      "outputs": [
        {
          "output_type": "stream",
          "name": "stdout",
          "text": [
            "['banana', 2, 3.14, True]\n"
          ]
        }
      ]
    },
    {
      "cell_type": "code",
      "source": [
        "listaValoresRepetidos = ['banana', 'banana', 'banana', 'banana']\n",
        "print(listaValoresRepetidos)"
      ],
      "metadata": {
        "colab": {
          "base_uri": "https://localhost:8080/"
        },
        "id": "s75oIygWhWo1",
        "outputId": "926f6df6-7121-4b15-e5d3-879210b41730"
      },
      "execution_count": 102,
      "outputs": [
        {
          "output_type": "stream",
          "name": "stdout",
          "text": [
            "['banana', 'banana', 'banana', 'banana']\n"
          ]
        }
      ]
    },
    {
      "cell_type": "code",
      "source": [
        "# Tamanho das listas\n",
        "print(len(legumes)) # len -> length\n",
        "print(len(listaMista))\n",
        "print(len(listaValoresRepetidos))"
      ],
      "metadata": {
        "colab": {
          "base_uri": "https://localhost:8080/"
        },
        "id": "DS6fq8vChl45",
        "outputId": "43ae3829-f608-4c4b-8a66-d788eca81cbc"
      },
      "execution_count": 103,
      "outputs": [
        {
          "output_type": "stream",
          "name": "stdout",
          "text": [
            "3\n",
            "4\n",
            "4\n"
          ]
        }
      ]
    },
    {
      "cell_type": "code",
      "source": [
        "fruta1 = \"banana\"\n",
        "fruta2 = \"maçã\"\n",
        "fruta3 = \"laranja\"\n",
        "\n",
        "listaFrutas = list((fruta1, fruta2, fruta3, \"abacaxi\"))\n",
        "print(listaFrutas)"
      ],
      "metadata": {
        "colab": {
          "base_uri": "https://localhost:8080/"
        },
        "id": "FYEZNeTsh67m",
        "outputId": "e25e41bf-fe4b-4094-f055-97de897af64c"
      },
      "execution_count": 104,
      "outputs": [
        {
          "output_type": "stream",
          "name": "stdout",
          "text": [
            "['banana', 'maçã', 'laranja', 'abacaxi']\n"
          ]
        }
      ]
    },
    {
      "cell_type": "code",
      "source": [
        "# tupla\n",
        "tupla = (1, 2, 3)\n",
        "print(tupla)\n",
        "print(type(tupla))\n",
        "\n",
        "# conjunto\n",
        "conjunto = {1, 2, 3}\n",
        "print(conjunto)\n",
        "print(type(conjunto))\n",
        "\n",
        "# dicionário\n",
        "dicionario = {\"chave1\": 1, \"chave2\": 2, \"chave3\": 3}\n",
        "print(dicionario)\n",
        "print(type(dicionario))"
      ],
      "metadata": {
        "colab": {
          "base_uri": "https://localhost:8080/"
        },
        "id": "pEgn0RWIirbC",
        "outputId": "ec4de751-4fdf-44e4-dfeb-cffe91a46e6e"
      },
      "execution_count": 105,
      "outputs": [
        {
          "output_type": "stream",
          "name": "stdout",
          "text": [
            "(1, 2, 3)\n",
            "<class 'tuple'>\n",
            "{1, 2, 3}\n",
            "<class 'set'>\n",
            "{'chave1': 1, 'chave2': 2, 'chave3': 3}\n",
            "<class 'dict'>\n"
          ]
        }
      ]
    },
    {
      "cell_type": "markdown",
      "source": [
        "## Formas de se acessar os items de uma lista"
      ],
      "metadata": {
        "id": "WlDT4mD-j5mE"
      }
    },
    {
      "cell_type": "code",
      "source": [
        "print(legumes)"
      ],
      "metadata": {
        "colab": {
          "base_uri": "https://localhost:8080/"
        },
        "id": "GJ-jLkxzj99i",
        "outputId": "e9105e68-4f99-4503-a106-834c0a310d11"
      },
      "execution_count": 106,
      "outputs": [
        {
          "output_type": "stream",
          "name": "stdout",
          "text": [
            "['cenoura', 'batata', 'abobrinha']\n"
          ]
        }
      ]
    },
    {
      "cell_type": "code",
      "source": [
        "print(legumes[-3])"
      ],
      "metadata": {
        "colab": {
          "base_uri": "https://localhost:8080/"
        },
        "id": "MVu8SwE8kFcV",
        "outputId": "ccddb263-0cf0-41ff-9101-9e177d81d99a"
      },
      "execution_count": 107,
      "outputs": [
        {
          "output_type": "stream",
          "name": "stdout",
          "text": [
            "cenoura\n"
          ]
        }
      ]
    },
    {
      "cell_type": "code",
      "source": [
        "legumes.append(\"mandioca\")\n",
        "legumes.append(\"vagem\")\n",
        "legumes.append(\"couve de bruxelas\")\n",
        "print(legumes)"
      ],
      "metadata": {
        "colab": {
          "base_uri": "https://localhost:8080/"
        },
        "id": "FXZ5n8IzkoDq",
        "outputId": "efcd6e1f-171f-4310-87ac-2804e5925c0d"
      },
      "execution_count": 108,
      "outputs": [
        {
          "output_type": "stream",
          "name": "stdout",
          "text": [
            "['cenoura', 'batata', 'abobrinha', 'mandioca', 'vagem', 'couve de bruxelas']\n"
          ]
        }
      ]
    },
    {
      "cell_type": "code",
      "source": [
        "print(legumes[1:-3])"
      ],
      "metadata": {
        "colab": {
          "base_uri": "https://localhost:8080/"
        },
        "id": "vsXlA__pmQ3Z",
        "outputId": "ca934e3c-e295-4c13-b3de-2fcb98b36795"
      },
      "execution_count": 109,
      "outputs": [
        {
          "output_type": "stream",
          "name": "stdout",
          "text": [
            "['batata', 'abobrinha']\n"
          ]
        }
      ]
    },
    {
      "cell_type": "code",
      "source": [
        "print(legumes)"
      ],
      "metadata": {
        "colab": {
          "base_uri": "https://localhost:8080/"
        },
        "id": "Zc3OoQAcnvdk",
        "outputId": "c806e0db-b760-4889-d53a-2c539e5fe185"
      },
      "execution_count": 110,
      "outputs": [
        {
          "output_type": "stream",
          "name": "stdout",
          "text": [
            "['cenoura', 'batata', 'abobrinha', 'mandioca', 'vagem', 'couve de bruxelas']\n"
          ]
        }
      ]
    },
    {
      "cell_type": "code",
      "source": [
        "legumes[4] = 'beterraba'\n",
        "print(legumes)"
      ],
      "metadata": {
        "colab": {
          "base_uri": "https://localhost:8080/"
        },
        "id": "oEhwFIvtn1Mp",
        "outputId": "88aa1187-70ff-43f6-8923-5717e84d231f"
      },
      "execution_count": 111,
      "outputs": [
        {
          "output_type": "stream",
          "name": "stdout",
          "text": [
            "['cenoura', 'batata', 'abobrinha', 'mandioca', 'beterraba', 'couve de bruxelas']\n"
          ]
        }
      ]
    },
    {
      "cell_type": "code",
      "source": [
        "legumes.insert(3, 'abobora')\n",
        "print(legumes)"
      ],
      "metadata": {
        "colab": {
          "base_uri": "https://localhost:8080/"
        },
        "id": "VxfyeeaBoMn-",
        "outputId": "1ae476f7-2d79-40cb-e8e3-a519cdb83fc4"
      },
      "execution_count": 112,
      "outputs": [
        {
          "output_type": "stream",
          "name": "stdout",
          "text": [
            "['cenoura', 'batata', 'abobrinha', 'abobora', 'mandioca', 'beterraba', 'couve de bruxelas']\n"
          ]
        }
      ]
    },
    {
      "cell_type": "code",
      "source": [
        "legumes.remove('beterraba')\n",
        "print(legumes)"
      ],
      "metadata": {
        "colab": {
          "base_uri": "https://localhost:8080/"
        },
        "id": "NxRc8MFhoqbU",
        "outputId": "71628cbd-9a0d-44ef-d43e-5923b98a8e11"
      },
      "execution_count": 113,
      "outputs": [
        {
          "output_type": "stream",
          "name": "stdout",
          "text": [
            "['cenoura', 'batata', 'abobrinha', 'abobora', 'mandioca', 'couve de bruxelas']\n"
          ]
        }
      ]
    },
    {
      "cell_type": "code",
      "source": [
        "legumes.pop()\n",
        "print(legumes)"
      ],
      "metadata": {
        "colab": {
          "base_uri": "https://localhost:8080/"
        },
        "id": "BX-DBRlto2c4",
        "outputId": "3741e521-6f6e-4f83-95f3-7243d85e4457"
      },
      "execution_count": 114,
      "outputs": [
        {
          "output_type": "stream",
          "name": "stdout",
          "text": [
            "['cenoura', 'batata', 'abobrinha', 'abobora', 'mandioca']\n"
          ]
        }
      ]
    },
    {
      "cell_type": "code",
      "source": [
        "legumes.pop(2)\n",
        "print(legumes)"
      ],
      "metadata": {
        "colab": {
          "base_uri": "https://localhost:8080/"
        },
        "id": "kFaxDIdnpC68",
        "outputId": "edc8c2e2-3963-4c84-f199-c4401cf38d24"
      },
      "execution_count": 115,
      "outputs": [
        {
          "output_type": "stream",
          "name": "stdout",
          "text": [
            "['cenoura', 'batata', 'abobora', 'mandioca']\n"
          ]
        }
      ]
    },
    {
      "cell_type": "code",
      "source": [
        "# legumes.clear() remove todos os itens"
      ],
      "metadata": {
        "id": "US1qUHEIpq9U"
      },
      "execution_count": 116,
      "outputs": []
    },
    {
      "cell_type": "markdown",
      "source": [
        "## Percorrer itens de uma lista"
      ],
      "metadata": {
        "id": "Lsyb0bM0pxgJ"
      }
    },
    {
      "cell_type": "code",
      "source": [
        "for item in legumes:\n",
        "    print(item)"
      ],
      "metadata": {
        "colab": {
          "base_uri": "https://localhost:8080/"
        },
        "id": "84hIkiT8pxJ9",
        "outputId": "e6762a39-46d9-4c57-a975-3b38e35eaffc"
      },
      "execution_count": 117,
      "outputs": [
        {
          "output_type": "stream",
          "name": "stdout",
          "text": [
            "cenoura\n",
            "batata\n",
            "abobora\n",
            "mandioca\n"
          ]
        }
      ]
    },
    {
      "cell_type": "code",
      "source": [
        "[print(item) for item in legumes]"
      ],
      "metadata": {
        "colab": {
          "base_uri": "https://localhost:8080/"
        },
        "id": "fFb6Y6qFp66r",
        "outputId": "da5e92d2-b713-46a5-adda-6e45aa1f437d"
      },
      "execution_count": 118,
      "outputs": [
        {
          "output_type": "stream",
          "name": "stdout",
          "text": [
            "cenoura\n",
            "batata\n",
            "abobora\n",
            "mandioca\n"
          ]
        },
        {
          "output_type": "execute_result",
          "data": {
            "text/plain": [
              "[None, None, None, None]"
            ]
          },
          "metadata": {},
          "execution_count": 118
        }
      ]
    },
    {
      "cell_type": "markdown",
      "source": [
        "## Ordenação"
      ],
      "metadata": {
        "id": "Zsc2HG14qdXY"
      }
    },
    {
      "cell_type": "code",
      "source": [
        "legumes.sort()\n",
        "print(legumes)"
      ],
      "metadata": {
        "colab": {
          "base_uri": "https://localhost:8080/"
        },
        "id": "trKBNM1Tqf6u",
        "outputId": "cfea2006-93d7-409f-d44d-3cbb12dee49e"
      },
      "execution_count": 119,
      "outputs": [
        {
          "output_type": "stream",
          "name": "stdout",
          "text": [
            "['abobora', 'batata', 'cenoura', 'mandioca']\n"
          ]
        }
      ]
    },
    {
      "cell_type": "code",
      "source": [
        "legumes.append(\"abobora\")\n",
        "legumes.append(\"mandioca\")\n",
        "legumes.append(\"cebola\")\n",
        "legumes.append(\"mandioca\")\n",
        "print(legumes)"
      ],
      "metadata": {
        "colab": {
          "base_uri": "https://localhost:8080/"
        },
        "id": "T5rnGLhIq1mt",
        "outputId": "cb6ebc78-f2b9-448c-b11c-05363652909b"
      },
      "execution_count": 120,
      "outputs": [
        {
          "output_type": "stream",
          "name": "stdout",
          "text": [
            "['abobora', 'batata', 'cenoura', 'mandioca', 'abobora', 'mandioca', 'cebola', 'mandioca']\n"
          ]
        }
      ]
    },
    {
      "cell_type": "code",
      "source": [
        "legumes.count(\"beterraba\")"
      ],
      "metadata": {
        "colab": {
          "base_uri": "https://localhost:8080/"
        },
        "id": "PYCb_3OCrK-4",
        "outputId": "3c3a1542-53f8-4c75-a1c6-3c12fc2b2d2a"
      },
      "execution_count": 121,
      "outputs": [
        {
          "output_type": "execute_result",
          "data": {
            "text/plain": [
              "0"
            ]
          },
          "metadata": {},
          "execution_count": 121
        }
      ]
    },
    {
      "cell_type": "code",
      "source": [
        "legumes.sort()\n",
        "print(legumes)"
      ],
      "metadata": {
        "colab": {
          "base_uri": "https://localhost:8080/"
        },
        "id": "jvZXjzlvrc4h",
        "outputId": "791fcedd-aa0f-4b23-92b3-6976a015452d"
      },
      "execution_count": 122,
      "outputs": [
        {
          "output_type": "stream",
          "name": "stdout",
          "text": [
            "['abobora', 'abobora', 'batata', 'cebola', 'cenoura', 'mandioca', 'mandioca', 'mandioca']\n"
          ]
        }
      ]
    },
    {
      "cell_type": "code",
      "source": [
        "legumes.sort(reverse=True)\n",
        "print(legumes)"
      ],
      "metadata": {
        "colab": {
          "base_uri": "https://localhost:8080/"
        },
        "id": "UM_C8Ngyrg-8",
        "outputId": "2c7f249b-b3e7-4038-efc3-3a22051373d7"
      },
      "execution_count": 123,
      "outputs": [
        {
          "output_type": "stream",
          "name": "stdout",
          "text": [
            "['mandioca', 'mandioca', 'mandioca', 'cenoura', 'cebola', 'batata', 'abobora', 'abobora']\n"
          ]
        }
      ]
    },
    {
      "cell_type": "code",
      "source": [
        "legumes.reverse()\n",
        "print(legumes)"
      ],
      "metadata": {
        "colab": {
          "base_uri": "https://localhost:8080/"
        },
        "id": "U00oUVntrmDq",
        "outputId": "f1532e15-e782-4a33-ae42-c8c190c9a34d"
      },
      "execution_count": 124,
      "outputs": [
        {
          "output_type": "stream",
          "name": "stdout",
          "text": [
            "['abobora', 'abobora', 'batata', 'cebola', 'cenoura', 'mandioca', 'mandioca', 'mandioca']\n"
          ]
        }
      ]
    },
    {
      "cell_type": "code",
      "source": [
        "print(legumes.index('mandioca'))\n",
        "print(legumes)"
      ],
      "metadata": {
        "colab": {
          "base_uri": "https://localhost:8080/"
        },
        "id": "-wYmIVKosDx1",
        "outputId": "66b783d6-f949-408a-f207-46a558936f9f"
      },
      "execution_count": 125,
      "outputs": [
        {
          "output_type": "stream",
          "name": "stdout",
          "text": [
            "5\n",
            "['abobora', 'abobora', 'batata', 'cebola', 'cenoura', 'mandioca', 'mandioca', 'mandioca']\n"
          ]
        }
      ]
    },
    {
      "cell_type": "code",
      "source": [
        "frutas = ['banana', 'maçã', 'laranja']\n",
        "legumes.extend(frutas)\n",
        "print(legumes)"
      ],
      "metadata": {
        "colab": {
          "base_uri": "https://localhost:8080/"
        },
        "id": "pHcuEYb3sm7j",
        "outputId": "20f08ae7-3533-41e9-9ad7-84d799aa3a5a"
      },
      "execution_count": 126,
      "outputs": [
        {
          "output_type": "stream",
          "name": "stdout",
          "text": [
            "['abobora', 'abobora', 'batata', 'cebola', 'cenoura', 'mandioca', 'mandioca', 'mandioca', 'banana', 'maçã', 'laranja']\n"
          ]
        }
      ]
    },
    {
      "cell_type": "code",
      "source": [
        "sopaDeDoido = legumes.copy()\n",
        "print(sopaDeDoido)"
      ],
      "metadata": {
        "colab": {
          "base_uri": "https://localhost:8080/"
        },
        "id": "REe4HeNys4fI",
        "outputId": "0d6c19f6-8b2d-493e-bc7c-84160e8fe6e7"
      },
      "execution_count": 127,
      "outputs": [
        {
          "output_type": "stream",
          "name": "stdout",
          "text": [
            "['abobora', 'abobora', 'batata', 'cebola', 'cenoura', 'mandioca', 'mandioca', 'mandioca', 'banana', 'maçã', 'laranja']\n"
          ]
        }
      ]
    },
    {
      "cell_type": "markdown",
      "source": [
        "### Exercícios\n",
        "\n",
        "1. Escreva um programa que solicite vários números ao usuário, um de cada vez, possibilitando encerrar a entrada de dados ao informar 'sair'.\n",
        "- Armazene os números em uma lista\n",
        "- Percorra esta lista alimentando outras duas listas, uma com números pares e outra com números ímpares.\n",
        "- Ordene e imprima os números pares e ímpares separadamente, mas em ordem crescente.\n",
        "- Some os valores de cada lista e imprima o resultado."
      ],
      "metadata": {
        "id": "H7u8dzY8wK_E"
      }
    },
    {
      "cell_type": "code",
      "source": [
        "listaNumeros = []\n",
        "listaPares = []\n",
        "listaImpares = []\n",
        "\n",
        "infoNumeros = input(\"Digite um número ou 'sair' para encerrar: \")\n",
        "while infoNumeros != 'sair':\n",
        "\n",
        "    listaNumeros.append(infoNumeros)\n",
        "    infoNumeros = input(\"Digite um número ou 'sair' para encerrar: \")\n",
        "\n",
        "for lista in listaNumeros:\n",
        "    if int(lista) % 2 == 0:\n",
        "        listaPares.append(int(lista))\n",
        "    else:\n",
        "        listaImpares.append(int(lista))\n",
        "\n",
        "listaPares.sort()\n",
        "listaImpares.sort()\n",
        "\n",
        "print(listaNumeros)\n",
        "print(listaPares)\n",
        "print(listaImpares)\n",
        "print(sum(listaPares) + sum(listaImpares))"
      ],
      "metadata": {
        "colab": {
          "base_uri": "https://localhost:8080/"
        },
        "id": "yf9inctg0sjF",
        "outputId": "867be51c-9b42-494b-f268-7240ef452f81"
      },
      "execution_count": 131,
      "outputs": [
        {
          "output_type": "stream",
          "name": "stdout",
          "text": [
            "Digite um número ou 'sair' para encerrar: 9\n",
            "Digite um número ou 'sair' para encerrar: 8\n",
            "Digite um número ou 'sair' para encerrar: 6\n",
            "Digite um número ou 'sair' para encerrar: 4\n",
            "Digite um número ou 'sair' para encerrar: sair\n",
            "['9', '8', '6', '4']\n",
            "[4, 6, 8]\n",
            "[9]\n",
            "27\n"
          ]
        }
      ]
    },
    {
      "cell_type": "markdown",
      "source": [
        "2. Crie um sistema de consulta de preços\n",
        "\n",
        "Seu sistema deve:\n",
        "\n",
        "- Pedir para o usuário o nome de um produto\n",
        "\n",
        "- Caso o produto exista na lista de produtos, o programa deve\n",
        "retornar o preço do produto como resposta\n",
        "\n",
        "- Ex: O produto celular custa R$1500\n",
        "\n",
        "- Caso o produto não exista na lista de produtos, o programa deve\n",
        "printar uma mensagem para o usuário tentar novamente\n",
        "\n",
        "Celular: 1500, câmera: 1000, fone de ouvido: 800, monitor: 2000"
      ],
      "metadata": {
        "id": "JxsK9ul2FvUB"
      }
    },
    {
      "cell_type": "code",
      "source": [
        "produtos = {'notebook': 4000,\n",
        "            'celular': 1500,\n",
        "            'camera': 1000,\n",
        "            'fone de ouvido': 800,\n",
        "            'monitor': 2000}\n",
        "\n",
        "selecione_produto = input(\"Digite o nome do produto: \")\n",
        "\n",
        "while selecione_produto not in produtos:\n",
        "    print(produtos)\n",
        "    selecione_produto = input(\"Não temos esse produto, veja o catálogo e tente novamente: \")\n",
        "\n",
        "if selecione_produto in produtos:\n",
        "    print(f'O produto {selecione_produto} custa R${produtos[selecione_produto]}')\n",
        "\n",
        "else:\n",
        "    selecione_produto = input(\"Não temos esse produto, veja o catálogo e tente novamente: \")\n",
        "    print(produtos)"
      ],
      "metadata": {
        "id": "GFh8is2VFysB",
        "outputId": "ec3b4825-92f1-4b8b-bf1e-ae469d8cdbf4",
        "colab": {
          "base_uri": "https://localhost:8080/"
        }
      },
      "execution_count": 136,
      "outputs": [
        {
          "output_type": "stream",
          "name": "stdout",
          "text": [
            "Digite o nome do produto: bola\n",
            "{'notebook': 4000, 'celular': 1500, 'camera': 1000, 'fone de ouvido': 800, 'monitor': 2000}\n",
            "Não temos esse produto, veja o catálogo e tente novamente: celular\n",
            "O produto celular custa R$1500\n"
          ]
        }
      ]
    }
  ]
}