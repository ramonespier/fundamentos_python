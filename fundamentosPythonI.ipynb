{
  "nbformat": 4,
  "nbformat_minor": 0,
  "metadata": {
    "colab": {
      "provenance": [],
      "toc_visible": true,
      "authorship_tag": "ABX9TyOAnuSLN5F7zhdmRaUsA6+Z",
      "include_colab_link": true
    },
    "kernelspec": {
      "name": "python3",
      "display_name": "Python 3"
    },
    "language_info": {
      "name": "python"
    }
  },
  "cells": [
    {
      "cell_type": "markdown",
      "metadata": {
        "id": "view-in-github",
        "colab_type": "text"
      },
      "source": [
        "<a href=\"https://colab.research.google.com/github/ramonespier/fundamentos_python/blob/main/fundamentosPythonI.ipynb\" target=\"_parent\"><img src=\"https://colab.research.google.com/assets/colab-badge.svg\" alt=\"Open In Colab\"/></a>"
      ]
    },
    {
      "cell_type": "code",
      "source": [
        "print('Hello, world!')"
      ],
      "metadata": {
        "colab": {
          "base_uri": "https://localhost:8080/"
        },
        "id": "nG3ADPHPfATz",
        "outputId": "6975eafd-719a-4741-b781-36594de8dd8d"
      },
      "execution_count": null,
      "outputs": [
        {
          "output_type": "stream",
          "name": "stdout",
          "text": [
            "Hello, world!\n"
          ]
        }
      ]
    },
    {
      "cell_type": "markdown",
      "source": [
        "# Fundamentos de Python I\n",
        "Aqui, vamos aprender um pouco sobre a sítaxe básica do Python."
      ],
      "metadata": {
        "id": "A1mn5ujKd_ES"
      }
    },
    {
      "cell_type": "markdown",
      "source": [
        "## Variáveis"
      ],
      "metadata": {
        "id": "YaDFH56ggUfL"
      }
    },
    {
      "cell_type": "code",
      "source": [
        "nome = 'Ramon'\n",
        "idade = 19\n",
        "altura = 1.75\n",
        "peso = 60\n",
        "estudante = True\n",
        "topCincoFilmes = ['1. Spider-Man No Way Home',\n",
        "                  '2. The Amazing Spider-Man 2',\n",
        "                  '3. Spider-Man 2',\n",
        "                  '4. The Amazing Spider-Man'\n",
        "                  '5. Spider-Man 3']\n",
        "print(nome)\n",
        "print(idade)\n",
        "print(altura)\n",
        "print(peso)\n",
        "print(estudante)\n",
        "print(topCincoFilmes)\n"
      ],
      "metadata": {
        "colab": {
          "base_uri": "https://localhost:8080/"
        },
        "id": "glCEcpC-geUi",
        "outputId": "0ea11b4c-cfef-43db-e125-d0376f6b56e5"
      },
      "execution_count": null,
      "outputs": [
        {
          "output_type": "stream",
          "name": "stdout",
          "text": [
            "Ramon\n",
            "19\n",
            "1.75\n",
            "60\n",
            "True\n",
            "['1. Spider-Man No Way Home', '2. The Amazing Spider-Man 2', '3. Spider-Man 2', '4. The Amazing Spider-Man5. Spider-Man 3']\n"
          ]
        }
      ]
    },
    {
      "cell_type": "markdown",
      "source": [
        "## Operadores\n",
        "\n",
        "### Operadores aritiméticos"
      ],
      "metadata": {
        "id": "90j1cL4hslnp"
      }
    },
    {
      "cell_type": "code",
      "source": [
        "num1 = 10\n",
        "num2 = 4\n",
        "\n",
        "print(f'soma = {num1 + num2}')\n",
        "print(f'subtração = {num1 - num2}')\n",
        "print(f'multiplicação = {num1 * num2}')\n",
        "print(f'divisão = {num1 / num2}')\n",
        "print(f'divisão inteira = {num1 // num2}')\n",
        "print(f'resto da divisão = {num1 % num2}')\n",
        "print(f'exponenciação = {num1 ** num2}')"
      ],
      "metadata": {
        "colab": {
          "base_uri": "https://localhost:8080/"
        },
        "id": "VyJ6YtQdssQd",
        "outputId": "a58ab444-b545-44e0-fb29-81796b679c74"
      },
      "execution_count": null,
      "outputs": [
        {
          "output_type": "stream",
          "name": "stdout",
          "text": [
            "soma = 14\n",
            "subtração = 6\n",
            "multiplicação = 40\n",
            "divisão = 2.5\n",
            "divisão inteira = 2\n",
            "resto da divisão = 2\n",
            "exponenciação = 10000\n"
          ]
        }
      ]
    },
    {
      "cell_type": "markdown",
      "source": [
        "### Operadores de atribuição"
      ],
      "metadata": {
        "id": "v9ooNRSDtZR6"
      }
    },
    {
      "cell_type": "code",
      "source": [
        "#Operadores de atribuição mais comuns\n",
        "\n",
        "num1 = 10\n",
        "\n",
        "num1 += 5 #num1 = num1 + 5\n",
        "num1 -= 3 #num1 = num1 - 3\n",
        "num1 *= 2 #num1 = num1 * 2\n",
        "num1 /= 2 #num1 = num1 / 2\n",
        "num1 //= 2 #num1 = num1 // 2\n",
        "num1 **= 2 #num1 = num1 ** 2\n",
        "num1 %= 2 #num1 = num1 % 2\n",
        "\n",
        "\n",
        "print(num1)\n"
      ],
      "metadata": {
        "colab": {
          "base_uri": "https://localhost:8080/"
        },
        "id": "dbFPgqjZteei",
        "outputId": "c5780a32-7232-4053-a468-517789a513bd"
      },
      "execution_count": null,
      "outputs": [
        {
          "output_type": "stream",
          "name": "stdout",
          "text": [
            "0.0\n"
          ]
        }
      ]
    },
    {
      "cell_type": "markdown",
      "source": [
        "### Operadores de comparação"
      ],
      "metadata": {
        "id": "KeC3z77Guai5"
      }
    },
    {
      "cell_type": "code",
      "source": [
        "#operadores de comparação\n",
        "print(10 == 10)\n",
        "print(10 != 10)\n",
        "print(10 > 10)\n",
        "print(10 < 10)\n",
        "print(10 >= 10)\n",
        "print(10 <= 10)"
      ],
      "metadata": {
        "colab": {
          "base_uri": "https://localhost:8080/"
        },
        "id": "8dtZtmR3udvg",
        "outputId": "e9e0aaf9-d922-4a22-b0a8-d6e70aa5a5b7"
      },
      "execution_count": null,
      "outputs": [
        {
          "output_type": "stream",
          "name": "stdout",
          "text": [
            "True\n",
            "False\n",
            "False\n",
            "False\n",
            "True\n",
            "True\n"
          ]
        }
      ]
    },
    {
      "cell_type": "markdown",
      "source": [
        "### Operadores lógicos"
      ],
      "metadata": {
        "id": "MDJbx4Xturff"
      }
    },
    {
      "cell_type": "code",
      "source": [
        "#operadores lógicos\n",
        "num1 = 10\n",
        "num2 = 5\n",
        "\n",
        "print(num1 == 10 and num2 == 5)\n",
        "print(num1 == 10 or num2 == 5)\n",
        "print(not (num1 == 10 or num2 == 5))"
      ],
      "metadata": {
        "colab": {
          "base_uri": "https://localhost:8080/"
        },
        "id": "QcMZVPGauvdm",
        "outputId": "577d2ba0-0349-40b8-ad7d-76bc2caebcb3"
      },
      "execution_count": null,
      "outputs": [
        {
          "output_type": "stream",
          "name": "stdout",
          "text": [
            "True\n",
            "True\n",
            "False\n"
          ]
        }
      ]
    },
    {
      "cell_type": "markdown",
      "source": [
        "### Operadores de identidade"
      ],
      "metadata": {
        "id": "d2x0qc-xvWRa"
      }
    },
    {
      "cell_type": "code",
      "source": [
        "lista1 = ['banana', 'maça', 'abacaxi']\n",
        "lista2 = ['banana', 'maça', 'abacaxi']\n",
        "lista3 = lista1\n",
        "\n",
        "print(lista1 == lista2)\n",
        "print(lista1 is lista2)\n",
        "print(lista1 is lista3)\n",
        "print(lista1 is not lista2)"
      ],
      "metadata": {
        "colab": {
          "base_uri": "https://localhost:8080/"
        },
        "id": "ekVdCoKTvcO9",
        "outputId": "cb94de3b-4d5a-47f4-da09-b713cba76811"
      },
      "execution_count": null,
      "outputs": [
        {
          "output_type": "stream",
          "name": "stdout",
          "text": [
            "True\n",
            "False\n",
            "True\n",
            "True\n"
          ]
        }
      ]
    },
    {
      "cell_type": "markdown",
      "source": [
        "### Operador de afiliação"
      ],
      "metadata": {
        "id": "6C4i6hvQw3CC"
      }
    },
    {
      "cell_type": "code",
      "source": [
        "lista1 = ['banana', 'maça']\n",
        "\n",
        "print('banana' in lista1)\n",
        "print('abacaxi' not in lista1)"
      ],
      "metadata": {
        "colab": {
          "base_uri": "https://localhost:8080/"
        },
        "id": "kHtn2F6rw5vh",
        "outputId": "44637d04-eb7e-4ac9-fe96-45960089d96b"
      },
      "execution_count": null,
      "outputs": [
        {
          "output_type": "stream",
          "name": "stdout",
          "text": [
            "True\n",
            "True\n"
          ]
        }
      ]
    },
    {
      "cell_type": "markdown",
      "source": [
        "### If-Else"
      ],
      "metadata": {
        "id": "uylpWnxxx6Dr"
      }
    },
    {
      "cell_type": "code",
      "source": [
        "peso = 80\n",
        "\n",
        "if peso < 50:\n",
        "  print('peso baixo')\n",
        "elif peso < 80:\n",
        "  print('peso médio')\n",
        "else:\n",
        "  print('peso alto')\n"
      ],
      "metadata": {
        "colab": {
          "base_uri": "https://localhost:8080/"
        },
        "id": "Usy7XNODyGUi",
        "outputId": "589a7be4-2fa8-4cc5-c899-71b922011904"
      },
      "execution_count": null,
      "outputs": [
        {
          "output_type": "stream",
          "name": "stdout",
          "text": [
            "peso alto\n"
          ]
        }
      ]
    },
    {
      "cell_type": "markdown",
      "source": [
        "### Exercício\n",
        "\n",
        "Crie uma variável idade para verificar se uma pessoa é maior de idade (>=). Se for menor, mas tiver pelo menos 16 anos, deve apresentar documento com foto do responsável, se não, deve ser informado que é menor"
      ],
      "metadata": {
        "id": "ZkAxSV4vzcIo"
      }
    },
    {
      "cell_type": "code",
      "source": [
        "Idade = 17\n",
        "\n",
        "if Idade >= 18:\n",
        "    print(\"Maior de idade\")\n",
        "\n",
        "elif Idade >= 16:\n",
        "    print(\"Documento com foto do responsável\")\n",
        "\n",
        "else:\n",
        "    print(\"Menor de idade\")"
      ],
      "metadata": {
        "colab": {
          "base_uri": "https://localhost:8080/"
        },
        "id": "GE4ucjXf0JAM",
        "outputId": "82959f0a-5b98-405d-f90d-a6e9a23ec8df"
      },
      "execution_count": null,
      "outputs": [
        {
          "output_type": "stream",
          "name": "stdout",
          "text": [
            "Documento com foto do responsável\n"
          ]
        }
      ]
    },
    {
      "cell_type": "markdown",
      "source": [
        "###Entrada de dados"
      ],
      "metadata": {
        "id": "qa-aMANc1YJ5"
      }
    },
    {
      "cell_type": "code",
      "source": [
        "nome = input(\"Digite seu nome: \")\n",
        "idade = int(input(\"Digite sua idade: \"))\n",
        "\n",
        "print(f'Olá {nome}, você tem {idade} anos de idade')"
      ],
      "metadata": {
        "colab": {
          "base_uri": "https://localhost:8080/"
        },
        "id": "C35qNJ571b62",
        "outputId": "1a603ef2-5edf-49e4-9e9e-ad1227080f33"
      },
      "execution_count": null,
      "outputs": [
        {
          "output_type": "stream",
          "name": "stdout",
          "text": [
            "Digite seu nome: ramon\n",
            "Digite sua idade: 19\n",
            "Olá ramon, você tem 19 anos de idade\n"
          ]
        }
      ]
    },
    {
      "cell_type": "markdown",
      "source": [
        "### Laço FOR"
      ],
      "metadata": {
        "id": "nPWVwsQ92BLA"
      }
    },
    {
      "cell_type": "code",
      "source": [
        "for i in range(10):\n",
        "  print(i)"
      ],
      "metadata": {
        "colab": {
          "base_uri": "https://localhost:8080/"
        },
        "id": "uw2Syo_s2Elx",
        "outputId": "f2cfbfa1-90da-491a-a240-aea8921e326f"
      },
      "execution_count": null,
      "outputs": [
        {
          "output_type": "stream",
          "name": "stdout",
          "text": [
            "0\n",
            "1\n",
            "2\n",
            "3\n",
            "4\n",
            "5\n",
            "6\n",
            "7\n",
            "8\n",
            "9\n"
          ]
        }
      ]
    },
    {
      "cell_type": "code",
      "source": [
        "# Iterando em listas\n",
        "\n",
        "lista = ['banana', 'maça', 'abacaxi']\n",
        "\n",
        "for item in lista:\n",
        "  print(item)"
      ],
      "metadata": {
        "colab": {
          "base_uri": "https://localhost:8080/"
        },
        "id": "BdAhj4ye2uf7",
        "outputId": "6289e972-b8dd-40f5-ffe2-e48666ab071b"
      },
      "execution_count": null,
      "outputs": [
        {
          "output_type": "stream",
          "name": "stdout",
          "text": [
            "banana\n",
            "maça\n",
            "abacaxi\n"
          ]
        }
      ]
    },
    {
      "cell_type": "code",
      "source": [
        "fruta = 'morango'\n",
        "\n",
        "for letra in fruta:\n",
        "  print(letra)"
      ],
      "metadata": {
        "colab": {
          "base_uri": "https://localhost:8080/"
        },
        "id": "xHYPz3z82_t_",
        "outputId": "bb0d7dbf-e7c5-4aa4-ce10-2f9c0c9bada6"
      },
      "execution_count": null,
      "outputs": [
        {
          "output_type": "stream",
          "name": "stdout",
          "text": [
            "m\n",
            "o\n",
            "r\n",
            "a\n",
            "n\n",
            "g\n",
            "o\n"
          ]
        }
      ]
    },
    {
      "cell_type": "markdown",
      "source": [
        "### Laço While"
      ],
      "metadata": {
        "id": "R81g8csn4ZBo"
      }
    },
    {
      "cell_type": "code",
      "source": [
        "contador = 0\n",
        "\n",
        "while contador < 10:\n",
        "  print(contador)\n",
        "  contador += 1"
      ],
      "metadata": {
        "colab": {
          "base_uri": "https://localhost:8080/"
        },
        "id": "8RPM_chf4bjw",
        "outputId": "bca67a4c-c6c5-4e7b-da0d-ad17c1f8520e"
      },
      "execution_count": null,
      "outputs": [
        {
          "output_type": "stream",
          "name": "stdout",
          "text": [
            "0\n",
            "1\n",
            "2\n",
            "3\n",
            "4\n",
            "5\n",
            "6\n",
            "7\n",
            "8\n",
            "9\n"
          ]
        }
      ]
    },
    {
      "cell_type": "code",
      "source": [
        "opcao = ''\n",
        "\n",
        "while opcao != 'sair':\n",
        "  opcao = input('Digite sair para sair: ')"
      ],
      "metadata": {
        "colab": {
          "base_uri": "https://localhost:8080/"
        },
        "id": "aILV-oSa4r9Y",
        "outputId": "f92d129a-6c54-427c-f6fc-6c9cb8ebb996"
      },
      "execution_count": null,
      "outputs": [
        {
          "name": "stdout",
          "output_type": "stream",
          "text": [
            "Digite sair para sair: a\n",
            "Digite sair para sair: b\n",
            "Digite sair para sair: kj\n",
            "Digite sair para sair: khiuh\n",
            "Digite sair para sair: khjghkjg\n",
            "Digite sair para sair: \n",
            "Digite sair para sair: sair\n"
          ]
        }
      ]
    },
    {
      "cell_type": "markdown",
      "source": [
        "### Exercíciozinho\n",
        "\n",
        "Crie um programa que conta de 5 à 18 usando o laço for e um que conte de 34 à 67 usando laço while."
      ],
      "metadata": {
        "id": "GrBF8eY85MuK"
      }
    },
    {
      "cell_type": "code",
      "source": [
        "for exercíciozinho in range(5, 19):\n",
        "  print(exercíciozinho)"
      ],
      "metadata": {
        "colab": {
          "base_uri": "https://localhost:8080/"
        },
        "id": "ML6l-gHP5POh",
        "outputId": "199b7e43-a021-441d-99fe-7e06f6ad3e52"
      },
      "execution_count": null,
      "outputs": [
        {
          "output_type": "stream",
          "name": "stdout",
          "text": [
            "5\n",
            "6\n",
            "7\n",
            "8\n",
            "9\n",
            "10\n",
            "11\n",
            "12\n",
            "13\n",
            "14\n",
            "15\n",
            "16\n",
            "17\n",
            "18\n"
          ]
        }
      ]
    },
    {
      "cell_type": "code",
      "source": [
        "exerc = 34\n",
        "while exerc < 68:\n",
        "  print(exerc)\n",
        "  exerc += 1"
      ],
      "metadata": {
        "colab": {
          "base_uri": "https://localhost:8080/"
        },
        "id": "qefb7S1y6JAB",
        "outputId": "c5d164cc-bdd4-47c0-ffa7-270971128f24"
      },
      "execution_count": null,
      "outputs": [
        {
          "output_type": "stream",
          "name": "stdout",
          "text": [
            "34\n",
            "35\n",
            "36\n",
            "37\n",
            "38\n",
            "39\n",
            "40\n",
            "41\n",
            "42\n",
            "43\n",
            "44\n",
            "45\n",
            "46\n",
            "47\n",
            "48\n",
            "49\n",
            "50\n",
            "51\n",
            "52\n",
            "53\n",
            "54\n",
            "55\n",
            "56\n",
            "57\n",
            "58\n",
            "59\n",
            "60\n",
            "61\n",
            "62\n",
            "63\n",
            "64\n",
            "65\n",
            "66\n",
            "67\n"
          ]
        }
      ]
    },
    {
      "cell_type": "markdown",
      "source": [
        "### Funções"
      ],
      "metadata": {
        "id": "GMPFKTNR8ZtS"
      }
    },
    {
      "cell_type": "code",
      "source": [
        "def soma(num1, num2):\n",
        "  return num1 + num2\n",
        "\n",
        "print(soma(10, 5))"
      ],
      "metadata": {
        "colab": {
          "base_uri": "https://localhost:8080/"
        },
        "id": "F8jJJ9eZ8c71",
        "outputId": "a67c5973-99b4-486d-d712-3d44bd31daef"
      },
      "execution_count": null,
      "outputs": [
        {
          "output_type": "stream",
          "name": "stdout",
          "text": [
            "15\n"
          ]
        }
      ]
    },
    {
      "cell_type": "markdown",
      "source": [
        "#### Exercicise of FUNÇÃO\n",
        "\n",
        "Crie um programa com uma função que leia o nome e idade de uma pessoa e imprima uma mensagem dizendo quantos anos a pessoa fará no próximo ano\n",
        "\n"
      ],
      "metadata": {
        "id": "zlGDko3r9avL"
      }
    },
    {
      "cell_type": "code",
      "source": [
        "def idade(nome, idade):\n",
        "  print(f'Seu nome é {nome} e ano que vem você fará {idade + 1} anos')\n",
        "\n",
        "idade('Ramon', 19)"
      ],
      "metadata": {
        "colab": {
          "base_uri": "https://localhost:8080/"
        },
        "id": "hRE3m6zK9-gZ",
        "outputId": "5b8f68ec-8615-43fd-ac18-6c3788c11e0d"
      },
      "execution_count": null,
      "outputs": [
        {
          "output_type": "stream",
          "name": "stdout",
          "text": [
            "Seu nome é Ramon e ano que vem você fará 20 anos\n"
          ]
        }
      ]
    }
  ]
}